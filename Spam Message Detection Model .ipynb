{
 "cells": [
  {
   "cell_type": "markdown",
   "id": "337c85a9",
   "metadata": {},
   "source": [
    "# Spam Detection Model Using Multinomial Naive Bayes\n",
    "\n"
   ]
  },
  {
   "cell_type": "markdown",
   "id": "ed07854e",
   "metadata": {},
   "source": [
    "## Project Description\n",
    "The project focuses on building a **spam detection model** using **Multinomial Naive Bayes**. The dataset consists of labeled messages, with the labels being either 'spam' or 'ham' (non-spam). The goal is to accurately classify incoming text messages into these two categories using text-based feature extraction techniques and machine learning algorithms. The model helps automate the detection of unwanted messages in applications like email services or SMS filtering.\n",
    "\n"
   ]
  },
  {
   "cell_type": "markdown",
   "id": "b2de1a6f",
   "metadata": {},
   "source": [
    "## Objective\n",
    "- To build a spam detection model using a machine learning approach.\n",
    "- To apply **Natural Language Processing (NLP)** techniques to extract meaningful features from text messages.\n",
    "- To classify text messages into **spam** (unwanted messages) and **ham** (legitimate messages).\n",
    "- To evaluate the performance of the model using appropriate classification metrics like accuracy, precision, recall, and F1-score.\n",
    "\n"
   ]
  },
  {
   "cell_type": "markdown",
   "id": "414a7d45",
   "metadata": {},
   "source": [
    "## Column Information\n",
    "1. **labels**: The classification label for each message, where 'spam' represents unwanted messages and 'ham' represents legitimate ones.\n",
    "2. **messages**: The text message content to be classified into either 'spam' or 'ham'.\n",
    "\n"
   ]
  },
  {
   "cell_type": "markdown",
   "id": "803b162a",
   "metadata": {},
   "source": [
    "## Importance of the Spam Detection Model\n",
    "Spam detection is crucial for:\n",
    "- **Preventing fraud and scams**: By filtering out harmful messages, users are less exposed to phishing attempts and fraudulent offers.\n",
    "- **Improving user experience**: Automatically filtering spam enhances the usability of email and messaging services by reducing the clutter in users' inboxes.\n",
    "- **Saving resources**: Reducing the amount of spam helps organizations and individuals save bandwidth, storage, and processing time.\n",
    "\n"
   ]
  },
  {
   "cell_type": "code",
   "execution_count": 39,
   "id": "8dd2479c",
   "metadata": {},
   "outputs": [],
   "source": [
    "import pandas as pd "
   ]
  },
  {
   "cell_type": "markdown",
   "id": "ec8ae16c",
   "metadata": {},
   "source": [
    "## Loading the dataset"
   ]
  },
  {
   "cell_type": "code",
   "execution_count": 8,
   "id": "17c8b66e",
   "metadata": {},
   "outputs": [],
   "source": [
    "messages = pd.read_csv(\"C:\\\\Users\\\\Khan Mokhit\\\\Downloads\\\\SMSSpamCollection\" , sep = '\\t' , names = ['labels' , 'messages'])"
   ]
  },
  {
   "cell_type": "code",
   "execution_count": 9,
   "id": "8247715c",
   "metadata": {},
   "outputs": [
    {
     "data": {
      "text/html": [
       "<div>\n",
       "<style scoped>\n",
       "    .dataframe tbody tr th:only-of-type {\n",
       "        vertical-align: middle;\n",
       "    }\n",
       "\n",
       "    .dataframe tbody tr th {\n",
       "        vertical-align: top;\n",
       "    }\n",
       "\n",
       "    .dataframe thead th {\n",
       "        text-align: right;\n",
       "    }\n",
       "</style>\n",
       "<table border=\"1\" class=\"dataframe\">\n",
       "  <thead>\n",
       "    <tr style=\"text-align: right;\">\n",
       "      <th></th>\n",
       "      <th>labels</th>\n",
       "      <th>messages</th>\n",
       "    </tr>\n",
       "  </thead>\n",
       "  <tbody>\n",
       "    <tr>\n",
       "      <th>0</th>\n",
       "      <td>ham</td>\n",
       "      <td>Go until jurong point, crazy.. Available only ...</td>\n",
       "    </tr>\n",
       "    <tr>\n",
       "      <th>1</th>\n",
       "      <td>ham</td>\n",
       "      <td>Ok lar... Joking wif u oni...</td>\n",
       "    </tr>\n",
       "    <tr>\n",
       "      <th>2</th>\n",
       "      <td>spam</td>\n",
       "      <td>Free entry in 2 a wkly comp to win FA Cup fina...</td>\n",
       "    </tr>\n",
       "    <tr>\n",
       "      <th>3</th>\n",
       "      <td>ham</td>\n",
       "      <td>U dun say so early hor... U c already then say...</td>\n",
       "    </tr>\n",
       "    <tr>\n",
       "      <th>4</th>\n",
       "      <td>ham</td>\n",
       "      <td>Nah I don't think he goes to usf, he lives aro...</td>\n",
       "    </tr>\n",
       "    <tr>\n",
       "      <th>...</th>\n",
       "      <td>...</td>\n",
       "      <td>...</td>\n",
       "    </tr>\n",
       "    <tr>\n",
       "      <th>5567</th>\n",
       "      <td>spam</td>\n",
       "      <td>This is the 2nd time we have tried 2 contact u...</td>\n",
       "    </tr>\n",
       "    <tr>\n",
       "      <th>5568</th>\n",
       "      <td>ham</td>\n",
       "      <td>Will ü b going to esplanade fr home?</td>\n",
       "    </tr>\n",
       "    <tr>\n",
       "      <th>5569</th>\n",
       "      <td>ham</td>\n",
       "      <td>Pity, * was in mood for that. So...any other s...</td>\n",
       "    </tr>\n",
       "    <tr>\n",
       "      <th>5570</th>\n",
       "      <td>ham</td>\n",
       "      <td>The guy did some bitching but I acted like i'd...</td>\n",
       "    </tr>\n",
       "    <tr>\n",
       "      <th>5571</th>\n",
       "      <td>ham</td>\n",
       "      <td>Rofl. Its true to its name</td>\n",
       "    </tr>\n",
       "  </tbody>\n",
       "</table>\n",
       "<p>5572 rows × 2 columns</p>\n",
       "</div>"
      ],
      "text/plain": [
       "     labels                                           messages\n",
       "0       ham  Go until jurong point, crazy.. Available only ...\n",
       "1       ham                      Ok lar... Joking wif u oni...\n",
       "2      spam  Free entry in 2 a wkly comp to win FA Cup fina...\n",
       "3       ham  U dun say so early hor... U c already then say...\n",
       "4       ham  Nah I don't think he goes to usf, he lives aro...\n",
       "...     ...                                                ...\n",
       "5567   spam  This is the 2nd time we have tried 2 contact u...\n",
       "5568    ham               Will ü b going to esplanade fr home?\n",
       "5569    ham  Pity, * was in mood for that. So...any other s...\n",
       "5570    ham  The guy did some bitching but I acted like i'd...\n",
       "5571    ham                         Rofl. Its true to its name\n",
       "\n",
       "[5572 rows x 2 columns]"
      ]
     },
     "execution_count": 9,
     "metadata": {},
     "output_type": "execute_result"
    }
   ],
   "source": [
    "messages"
   ]
  },
  {
   "cell_type": "markdown",
   "id": "47488442",
   "metadata": {},
   "source": [
    "#### The number of messages in both categries "
   ]
  },
  {
   "cell_type": "markdown",
   "id": "ad0777f4",
   "metadata": {},
   "source": [
    "**Spam** : The message is spam\n",
    "\n",
    "\n",
    "**Ham** : The message is not spam "
   ]
  },
  {
   "cell_type": "code",
   "execution_count": 38,
   "id": "2781742a",
   "metadata": {},
   "outputs": [
    {
     "data": {
      "text/plain": [
       "ham     4825\n",
       "spam     747\n",
       "Name: labels, dtype: int64"
      ]
     },
     "execution_count": 38,
     "metadata": {},
     "output_type": "execute_result"
    }
   ],
   "source": [
    "messages.labels.value_counts()"
   ]
  },
  {
   "cell_type": "code",
   "execution_count": 40,
   "id": "ffe8c638",
   "metadata": {},
   "outputs": [
    {
     "data": {
      "image/png": "[encoded data removed]",
      "text/plain": [
       "<Figure size 640x480 with 1 Axes>"
      ]
     },
     "metadata": {},
     "output_type": "display_data"
    }
   ],
   "source": [
    "import matplotlib.pyplot as plt\n",
    "\n",
    "# Data\n",
    "labels = ['Ham', 'Spam']\n",
    "sizes = [4825, 747]\n",
    "colors = ['#66b3ff', '#ff6666']  # Optional color scheme for ham and spam\n",
    "explode = (0.1, 0)  # \"Explode\" the 1st slice (ham) for emphasis\n",
    "\n",
    "# Create the pie chart\n",
    "plt.pie(sizes, explode=explode, labels=labels, colors=colors, autopct='%1.1f%%', shadow=True, startangle=90)\n",
    "\n",
    "# Equal aspect ratio ensures the pie is drawn as a circle\n",
    "plt.axis('equal')  \n",
    "\n",
    "# Title\n",
    "plt.title('Distribution of Ham vs Spam Messages')\n",
    "\n",
    "# Show the pie chart\n",
    "plt.show()\n"
   ]
  },
  {
   "cell_type": "markdown",
   "id": "d0002d42",
   "metadata": {},
   "source": [
    "## Data Preprocessing"
   ]
  },
  {
   "cell_type": "markdown",
   "id": "d6a73215",
   "metadata": {},
   "source": [
    "**regex** : with the help of the regex we are cleaning the dataset "
   ]
  },
  {
   "cell_type": "markdown",
   "id": "ec9c69ae",
   "metadata": {},
   "source": [
    "**Stopwords** : weith the help of stopwords which are present in the natural language tool kit we are removing the stopwords from the data "
   ]
  },
  {
   "cell_type": "markdown",
   "id": "9e24c03e",
   "metadata": {},
   "source": [
    "**Stemming** : with the help of the stemming we are converting the words to the root form of that"
   ]
  },
  {
   "cell_type": "code",
   "execution_count": 10,
   "id": "8e3d8814",
   "metadata": {
    "scrolled": true
   },
   "outputs": [
    {
     "name": "stderr",
     "output_type": "stream",
     "text": [
      "[nltk_data] Downloading package stopwords to C:\\Users\\Khan\n",
      "[nltk_data]     Mokhit\\AppData\\Roaming\\nltk_data...\n",
      "[nltk_data]   Package stopwords is already up-to-date!\n"
     ]
    }
   ],
   "source": [
    "import re \n",
    "import nltk\n",
    "nltk.download('stopwords')\n",
    "\n",
    "from nltk.stem.porter import PorterStemmer\n",
    "from nltk.corpus import stopwords\n",
    "ps = PorterStemmer()\n",
    "\n",
    "corpus = []\n",
    "\n",
    "for i in range(0,len(messages)):\n",
    "    \n",
    "    message = re.sub(r'[^a-z,A-Z]',' ',messages['messages'][i])\n",
    "    \n",
    "    message = message.lower()\n",
    "    \n",
    "    message = message.split()\n",
    "    \n",
    "    message = [ps.stem(word) for word in message if word not in stopwords.words('english')]\n",
    "    \n",
    "    message = ' '.join(message)\n",
    "    \n",
    "    corpus.append(message)"
   ]
  },
  {
   "cell_type": "markdown",
   "id": "7ecd3980",
   "metadata": {},
   "source": [
    "##### Corpus is the cleaned data "
   ]
  },
  {
   "cell_type": "code",
   "execution_count": 1,
   "id": "121f11b1",
   "metadata": {},
   "outputs": [],
   "source": [
    "#corpus"
   ]
  },
  {
   "cell_type": "markdown",
   "id": "7e1b6990",
   "metadata": {},
   "source": [
    "# Using Bag of Words"
   ]
  },
  {
   "cell_type": "markdown",
   "id": "52281d7f",
   "metadata": {},
   "source": [
    "**BOW** : Using bag of words we are converting the corpus to numeric format so that we can train the model"
   ]
  },
  {
   "cell_type": "code",
   "execution_count": 14,
   "id": "4562ce72",
   "metadata": {},
   "outputs": [
    {
     "data": {
      "text/plain": [
       "array([[0, 0, 0, ..., 0, 0, 0],\n",
       "       [0, 0, 0, ..., 0, 0, 0],\n",
       "       [0, 0, 0, ..., 0, 0, 0],\n",
       "       ...,\n",
       "       [0, 0, 0, ..., 0, 0, 0],\n",
       "       [0, 0, 0, ..., 0, 0, 0],\n",
       "       [0, 0, 0, ..., 0, 0, 0]], dtype=int64)"
      ]
     },
     "execution_count": 14,
     "metadata": {},
     "output_type": "execute_result"
    }
   ],
   "source": [
    "# Creating the BOW\n",
    "\n",
    "from sklearn.feature_extraction.text import CountVectorizer\n",
    "\n",
    "cv = CountVectorizer(max_features=2500)\n",
    "\n",
    "X = cv.fit_transform(corpus).toarray()\n",
    "\n",
    "X"
   ]
  },
  {
   "cell_type": "markdown",
   "id": "5f3f4cc3",
   "metadata": {},
   "source": [
    "#### Using get dummies function we are creating the y variables in the numeric format "
   ]
  },
  {
   "cell_type": "code",
   "execution_count": 45,
   "id": "542a5171",
   "metadata": {},
   "outputs": [
    {
     "data": {
      "text/html": [
       "<div>\n",
       "<style scoped>\n",
       "    .dataframe tbody tr th:only-of-type {\n",
       "        vertical-align: middle;\n",
       "    }\n",
       "\n",
       "    .dataframe tbody tr th {\n",
       "        vertical-align: top;\n",
       "    }\n",
       "\n",
       "    .dataframe thead th {\n",
       "        text-align: right;\n",
       "    }\n",
       "</style>\n",
       "<table border=\"1\" class=\"dataframe\">\n",
       "  <thead>\n",
       "    <tr style=\"text-align: right;\">\n",
       "      <th></th>\n",
       "      <th>ham</th>\n",
       "      <th>spam</th>\n",
       "    </tr>\n",
       "  </thead>\n",
       "  <tbody>\n",
       "    <tr>\n",
       "      <th>0</th>\n",
       "      <td>1</td>\n",
       "      <td>0</td>\n",
       "    </tr>\n",
       "    <tr>\n",
       "      <th>1</th>\n",
       "      <td>1</td>\n",
       "      <td>0</td>\n",
       "    </tr>\n",
       "    <tr>\n",
       "      <th>2</th>\n",
       "      <td>0</td>\n",
       "      <td>1</td>\n",
       "    </tr>\n",
       "    <tr>\n",
       "      <th>3</th>\n",
       "      <td>1</td>\n",
       "      <td>0</td>\n",
       "    </tr>\n",
       "    <tr>\n",
       "      <th>4</th>\n",
       "      <td>1</td>\n",
       "      <td>0</td>\n",
       "    </tr>\n",
       "    <tr>\n",
       "      <th>...</th>\n",
       "      <td>...</td>\n",
       "      <td>...</td>\n",
       "    </tr>\n",
       "    <tr>\n",
       "      <th>5567</th>\n",
       "      <td>0</td>\n",
       "      <td>1</td>\n",
       "    </tr>\n",
       "    <tr>\n",
       "      <th>5568</th>\n",
       "      <td>1</td>\n",
       "      <td>0</td>\n",
       "    </tr>\n",
       "    <tr>\n",
       "      <th>5569</th>\n",
       "      <td>1</td>\n",
       "      <td>0</td>\n",
       "    </tr>\n",
       "    <tr>\n",
       "      <th>5570</th>\n",
       "      <td>1</td>\n",
       "      <td>0</td>\n",
       "    </tr>\n",
       "    <tr>\n",
       "      <th>5571</th>\n",
       "      <td>1</td>\n",
       "      <td>0</td>\n",
       "    </tr>\n",
       "  </tbody>\n",
       "</table>\n",
       "<p>5572 rows × 2 columns</p>\n",
       "</div>"
      ],
      "text/plain": [
       "      ham  spam\n",
       "0       1     0\n",
       "1       1     0\n",
       "2       0     1\n",
       "3       1     0\n",
       "4       1     0\n",
       "...   ...   ...\n",
       "5567    0     1\n",
       "5568    1     0\n",
       "5569    1     0\n",
       "5570    1     0\n",
       "5571    1     0\n",
       "\n",
       "[5572 rows x 2 columns]"
      ]
     },
     "execution_count": 45,
     "metadata": {},
     "output_type": "execute_result"
    }
   ],
   "source": [
    "y = pd.get_dummies(messages['labels'])\n",
    "\n",
    "y"
   ]
  },
  {
   "cell_type": "markdown",
   "id": "f044cda3",
   "metadata": {},
   "source": [
    "#### We will use only one column for training the model"
   ]
  },
  {
   "cell_type": "code",
   "execution_count": 46,
   "id": "7cff9514",
   "metadata": {},
   "outputs": [],
   "source": [
    "y = y.iloc[:,1].values"
   ]
  },
  {
   "cell_type": "markdown",
   "id": "7ddc14b5",
   "metadata": {},
   "source": [
    "# Model training"
   ]
  },
  {
   "cell_type": "code",
   "execution_count": 24,
   "id": "0df4e6d9",
   "metadata": {},
   "outputs": [],
   "source": [
    "from sklearn.model_selection import train_test_split\n",
    "\n",
    "x_train , x_test , y_train , y_test = train_test_split(X , y , test_size = 0.2 , random_state = 0)"
   ]
  },
  {
   "cell_type": "code",
   "execution_count": 25,
   "id": "4831953b",
   "metadata": {},
   "outputs": [],
   "source": [
    "from sklearn.naive_bayes import MultinomialNB\n",
    "\n",
    "spam_detect_model = MultinomialNB().fit(x_train,y_train)\n",
    "\n",
    "y_pred = spam_detect_model.predict(x_test)"
   ]
  },
  {
   "cell_type": "markdown",
   "id": "47ab4b10",
   "metadata": {},
   "source": [
    "### Accuracy"
   ]
  },
  {
   "cell_type": "code",
   "execution_count": 27,
   "id": "16ecf27f",
   "metadata": {},
   "outputs": [
    {
     "name": "stdout",
     "output_type": "stream",
     "text": [
      "Accuracy of the model =  0.9856502242152466\n"
     ]
    }
   ],
   "source": [
    "from sklearn.metrics import accuracy_score\n",
    "\n",
    "print('Accuracy of the model = ' , accuracy_score(y_test,y_pred))"
   ]
  },
  {
   "cell_type": "markdown",
   "id": "78936ed3",
   "metadata": {},
   "source": [
    "# Using  TF-IDF"
   ]
  },
  {
   "cell_type": "code",
   "execution_count": 29,
   "id": "c608a29d",
   "metadata": {},
   "outputs": [
    {
     "data": {
      "text/plain": [
       "array([[0., 0., 0., ..., 0., 0., 0.],\n",
       "       [0., 0., 0., ..., 0., 0., 0.],\n",
       "       [0., 0., 0., ..., 0., 0., 0.],\n",
       "       ...,\n",
       "       [0., 0., 0., ..., 0., 0., 0.],\n",
       "       [0., 0., 0., ..., 0., 0., 0.],\n",
       "       [0., 0., 0., ..., 0., 0., 0.]])"
      ]
     },
     "execution_count": 29,
     "metadata": {},
     "output_type": "execute_result"
    }
   ],
   "source": [
    "#TFIDF\n",
    "\n",
    "from sklearn.feature_extraction.text import TfidfVectorizer\n",
    "\n",
    "tf = TfidfVectorizer(max_features=2500)\n",
    "\n",
    "X_tf = tf.fit_transform(corpus).toarray()\n",
    "\n",
    "X_tf"
   ]
  },
  {
   "cell_type": "code",
   "execution_count": 32,
   "id": "c55e8b6e",
   "metadata": {},
   "outputs": [],
   "source": [
    "y_tf = pd.get_dummies(messages['labels'])\n",
    "\n",
    "y_tf = y_tf.iloc[:,1].values"
   ]
  },
  {
   "cell_type": "code",
   "execution_count": 33,
   "id": "28fc862f",
   "metadata": {},
   "outputs": [
    {
     "data": {
      "text/plain": [
       "array([0, 0, 1, ..., 0, 0, 0], dtype=uint8)"
      ]
     },
     "execution_count": 33,
     "metadata": {},
     "output_type": "execute_result"
    }
   ],
   "source": [
    "y_tf"
   ]
  },
  {
   "cell_type": "markdown",
   "id": "58162604",
   "metadata": {},
   "source": [
    "# Model training "
   ]
  },
  {
   "cell_type": "code",
   "execution_count": 34,
   "id": "cd8c389f",
   "metadata": {},
   "outputs": [],
   "source": [
    "from sklearn.model_selection import train_test_split \n",
    "\n",
    "x_train , x_test , y_train , y_test = train_test_split(X_tf , y_tf , test_size = 0.2 , random_state = 0)"
   ]
  },
  {
   "cell_type": "code",
   "execution_count": 35,
   "id": "a565c6cc",
   "metadata": {},
   "outputs": [],
   "source": [
    "from sklearn.naive_bayes import MultinomialNB\n",
    "\n",
    "mnb = MultinomialNB()"
   ]
  },
  {
   "cell_type": "code",
   "execution_count": 36,
   "id": "445353a2",
   "metadata": {},
   "outputs": [],
   "source": [
    "spam_detect_model_tfidf =  mnb.fit(x_train , y_train)\n",
    "\n",
    "y_pred = spam_detect_model_tfidf.predict(x_test)"
   ]
  },
  {
   "cell_type": "markdown",
   "id": "06ed1f12",
   "metadata": {},
   "source": [
    "### Accuracy"
   ]
  },
  {
   "cell_type": "code",
   "execution_count": 37,
   "id": "7e8349ac",
   "metadata": {},
   "outputs": [
    {
     "name": "stdout",
     "output_type": "stream",
     "text": [
      "Accuracy of the model is : 0.979372197309417\n"
     ]
    }
   ],
   "source": [
    "from sklearn.metrics import accuracy_score\n",
    "\n",
    "print(\"Accuracy of the model is :\",accuracy_score(y_test,y_pred))"
   ]
  },
  {
   "cell_type": "markdown",
   "id": "64e5d8d8",
   "metadata": {},
   "source": [
    "#### As we can see there is not much difference in the accuracy of both model it may change in other case "
   ]
  },
  {
   "cell_type": "markdown",
   "id": "5999f6d8",
   "metadata": {},
   "source": [
    "## Conclusion\n",
    "The **Multinomial Naive Bayes** algorithm proved effective for classifying text messages as spam or ham. By leveraging word frequency and patterns in the text, the model can accurately detect spam messages. The model's performance metrics indicate its reliability in real-world scenarios, providing a practical solution for email or SMS filtering.\n",
    "\n"
   ]
  },
  {
   "cell_type": "markdown",
   "id": "d8e13958",
   "metadata": {},
   "source": [
    "## Future Work\n",
    "- **Improve feature extraction**: Implement advanced NLP techniques such as **TF-IDF** or word embeddings (e.g., Word2Vec) to capture more nuanced text patterns.\n",
    "- **Explore other models**: Evaluate the performance of other classifiers like **Logistic Regression**, **SVM**, or **Random Forest** to potentially improve accuracy.\n",
    "- **Handle new and evolving spam patterns**: Integrate dynamic learning systems that adapt to evolving spam messages by updating the model periodically with new data.\n",
    "- **Deployment**: Integrate the model into real-world messaging systems to automatically filter incoming messages and continuously improve through user feedback.\n"
   ]
  }
 ],
 "metadata": {
  "kernelspec": {
   "display_name": "Python 3 (ipykernel)",
   "language": "python",
   "name": "python3"
  },
  "language_info": {
   "codemirror_mode": {
    "name": "ipython",
    "version": 3
   },
   "file_extension": ".py",
   "mimetype": "text/x-python",
   "name": "python",
   "nbconvert_exporter": "python",
   "pygments_lexer": "ipython3",
   "version": "3.9.13"
  }
 },
 "nbformat": 4,
 "nbformat_minor": 5
}
